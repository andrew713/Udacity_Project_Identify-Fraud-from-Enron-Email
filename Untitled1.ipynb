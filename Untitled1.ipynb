{
 "cells": [
  {
   "cell_type": "markdown",
   "metadata": {},
   "source": [
    "# Project 7:\n",
    "# Machine Learning"
   ]
  },
  {
   "cell_type": "code",
   "execution_count": 1,
   "metadata": {},
   "outputs": [
    {
     "name": "stderr",
     "output_type": "stream",
     "text": [
      "C:\\Users\\admin\\Anaconda3\\envs\\python2\\lib\\site-packages\\sklearn\\cross_validation.py:44: DeprecationWarning: This module was deprecated in version 0.18 in favor of the model_selection module into which all the refactored classes and functions are moved. Also note that the interface of the new CV iterators are different from that of this module. This module will be removed in 0.20.\n",
      "  \"This module will be removed in 0.20.\", DeprecationWarning)\n"
     ]
    }
   ],
   "source": [
    "\n",
    "\n",
    "import sys\n",
    "import pickle\n",
    "import matplotlib.pyplot\n",
    "sys.path.append(\"../tools/\")\n",
    "\n",
    "from feature_format import featureFormat, targetFeatureSplit\n",
    "from tester import dump_classifier_and_data,test_classifier\n",
    "\n",
    "\n",
    "\n",
    "\n"
   ]
  },
  {
   "cell_type": "markdown",
   "metadata": {},
   "source": [
    "#### In the cell below I place most of the feature in the feature_list and  call the data file and place it in  data_dict. I locate the total\n",
    "#### number of people in the list and and the number feature in the dictionary.  Then i want to see how many NaN are in the salary,\n",
    "#### bonus , exercised_stock_options  and total_stock_value. "
   ]
  },
  {
   "cell_type": "code",
   "execution_count": 2,
   "metadata": {},
   "outputs": [
    {
     "name": "stdout",
     "output_type": "stream",
     "text": [
      "Number of People :146\n",
      "Number of Features :21\n",
      "False on poi : 128 \n",
      "POI  : 18\n",
      "NaN on salary : 51\n",
      "NaN on bonus: 64\n",
      "NaN on expense: 51\n",
      "NaN on exercise_stock_options: 44\n",
      "NaN on total_stock_value :20\n"
     ]
    }
   ],
   "source": [
    "###Task1\n",
    "###Select your features\n",
    "\n",
    "features_list = ['poi','salary','bonus','expenses','exercised_stock_options',\n",
    "                 'total_stock_value',\"from_poi_to_this_person\",\n",
    "                \"from_this_person_to_poi\",\"from_messages\",\n",
    "                 \"to_messages\",'loan_advances','long_term_incentive',\n",
    "                 'deferral_payments','deferred_income'\n",
    "    ]\n",
    "#data = featureFormat(data_dict, features_list)\n",
    "\n",
    "### Load the dictionary containing the dataset\n",
    "with open(\"final_project_dataset.pkl\", \"r\") as data_file:\n",
    "    data_dict = pickle.load(data_file)\n",
    "    \n",
    "#number of people \n",
    "print \"Number of People :{}\".format(  len(data_dict) )\n",
    "print \"Number of Features :{}\".format(len(data_dict[data_dict.keys()[0]]))\n",
    "count  =0\n",
    "count1 =0\n",
    "count2 =0 \n",
    "count3 =0\n",
    "count4 =0\n",
    "count5 =0\n",
    "count6 =0\n",
    "#missing value in for poi\n",
    "for x in data_dict:\n",
    "    na = data_dict[x][\"poi\"]==1\n",
    "    if (na != True):\n",
    "        count += 1\n",
    "for x in data_dict:\n",
    "    na = data_dict[x][\"poi\"]==1\n",
    "    if (na == True):\n",
    "        count6 += 1\n",
    "for x in data_dict:\n",
    "    na = data_dict[x][\"salary\"]\n",
    "    if na == \"NaN\":\n",
    "        count1 += 1\n",
    "for x in data_dict:\n",
    "    na = data_dict[x][\"bonus\"]\n",
    "    if na == \"NaN\":\n",
    "        count2 += 1\n",
    "for x in data_dict:\n",
    "    na = data_dict[x][\"expenses\"]\n",
    "    if na == \"NaN\":\n",
    "        count3 += 1\n",
    "for x in data_dict:\n",
    "    na = data_dict[x]['exercised_stock_options']\n",
    "    if na == \"NaN\":\n",
    "        count4 += 1\n",
    "for x in data_dict:\n",
    "    na = data_dict[x]['total_stock_value']\n",
    "    if na == \"NaN\":\n",
    "        count5 += 1\n",
    "print \"False on poi : {} \".format(count)\n",
    "print \"POI  : {}\".format(count6)\n",
    "print \"NaN on salary : {}\".format(count1)\n",
    "print \"NaN on bonus: {}\".format(count2)\n",
    "print \"NaN on expense: {}\".format(count3)\n",
    "print \"NaN on exercise_stock_options: {}\".format(count4)\n",
    "print 'NaN on total_stock_value :{}'.format(count5)"
   ]
  },
  {
   "cell_type": "markdown",
   "metadata": {
    "collapsed": true
   },
   "source": [
    "## Outliers \n",
    "\n",
    "#### In the code below I want to find the outliers for exercised_stock_options , total_stock_value , salary, expenses and bonus by graphing them to see the outliers."
   ]
  },
  {
   "cell_type": "code",
   "execution_count": 3,
   "metadata": {},
   "outputs": [
    {
     "data": {
      "image/png": "[encoded data removed]",
      "text/plain": [
       "<matplotlib.figure.Figure at 0x42ddf28>"
      ]
     },
     "metadata": {},
     "output_type": "display_data"
    },
    {
     "data": {
      "image/png": "[encoded data removed]",
      "text/plain": [
       "<matplotlib.figure.Figure at 0x9838390>"
      ]
     },
     "metadata": {},
     "output_type": "display_data"
    },
    {
     "data": {
      "image/png": "[encoded data removed]",
      "text/plain": [
       "<matplotlib.figure.Figure at 0x9d013c8>"
      ]
     },
     "metadata": {},
     "output_type": "display_data"
    }
   ],
   "source": [
    "data = featureFormat(data_dict, features_list)\n",
    "for point in data:\n",
    "    exercised_stock_options = point[4]\n",
    "    total_stock_value = point[5]\n",
    "    matplotlib.pyplot.scatter(exercised_stock_options , total_stock_value )\n",
    "\n",
    "matplotlib.pyplot.xlabel(\"exercised_stock_options\")\n",
    "matplotlib.pyplot.ylabel(\"total_stock_value\")\n",
    "matplotlib.pyplot.show()\n",
    "#graph from and to poi\n",
    "for point in data:\n",
    "    salary = point[1]\n",
    "    expenses = point[3]\n",
    "    matplotlib.pyplot.scatter( salary, expenses )\n",
    "\n",
    "matplotlib.pyplot.xlabel(\"salary\")\n",
    "matplotlib.pyplot.ylabel(\"expenses\")\n",
    "matplotlib.pyplot.show()\n",
    "\n",
    "#salary and bonus\n",
    "\n",
    "for point in data:\n",
    "    \n",
    "    salary = point[1]\n",
    "    bonus  = point[2] \n",
    "    matplotlib.pyplot.scatter(salary,bonus )\n",
    "\n",
    "matplotlib.pyplot.xlabel(\"salary\")\n",
    "matplotlib.pyplot.ylabel(\"bonus\")\n",
    "matplotlib.pyplot.show()\n"
   ]
  },
  {
   "cell_type": "markdown",
   "metadata": {},
   "source": [
    "#### In the graph above we can see there is a outlier when salary reach above 2.5  and another outlier when exercised_stock_options  above 3.0 . The first thing we look at salary we find out that the outlier is 26704229 in the cell below we have to locate the person that is equal to that salary."
   ]
  },
  {
   "cell_type": "code",
   "execution_count": 4,
   "metadata": {},
   "outputs": [
    {
     "name": "stdout",
     "output_type": "stream",
     "text": [
      "Salary Outlier:\n",
      "TOTAL\n",
      "26704229\n",
      "\n"
     ]
    }
   ],
   "source": [
    "#task 2 remove outlier\n",
    "print \"Salary Outlier:\"\n",
    "#locate outlier for salary\n",
    "for x in data_dict:\n",
    "    da = data_dict[x]['salary']  \n",
    "    if da == 26704229 :      \n",
    "        print x\n",
    "        print data_dict[x]['salary']\n",
    "print\n"
   ]
  },
  {
   "cell_type": "markdown",
   "metadata": {},
   "source": [
    "####  We find out that the person with 26704229 is not person but the total salary of all the people in our data_dict. So we a have to remove that outlier by popping like you see in the graph below."
   ]
  },
  {
   "cell_type": "code",
   "execution_count": 5,
   "metadata": {},
   "outputs": [
    {
     "data": {
      "text/plain": [
       "{'bonus': 97343619,\n",
       " 'deferral_payments': 32083396,\n",
       " 'deferred_income': -27992891,\n",
       " 'director_fees': 1398517,\n",
       " 'email_address': 'NaN',\n",
       " 'exercised_stock_options': 311764000,\n",
       " 'expenses': 5235198,\n",
       " 'from_messages': 'NaN',\n",
       " 'from_poi_to_this_person': 'NaN',\n",
       " 'from_this_person_to_poi': 'NaN',\n",
       " 'loan_advances': 83925000,\n",
       " 'long_term_incentive': 48521928,\n",
       " 'other': 42667589,\n",
       " 'poi': False,\n",
       " 'restricted_stock': 130322299,\n",
       " 'restricted_stock_deferred': -7576788,\n",
       " 'salary': 26704229,\n",
       " 'shared_receipt_with_poi': 'NaN',\n",
       " 'to_messages': 'NaN',\n",
       " 'total_payments': 309886585,\n",
       " 'total_stock_value': 434509511}"
      ]
     },
     "execution_count": 5,
     "metadata": {},
     "output_type": "execute_result"
    }
   ],
   "source": [
    "data_dict.pop(\"TOTAL\", 0 ) "
   ]
  },
  {
   "cell_type": "markdown",
   "metadata": {
    "collapsed": true
   },
   "source": [
    "#### Now that we pop the Total we going to relook at the graph again to see if we can notice another outlier, "
   ]
  },
  {
   "cell_type": "code",
   "execution_count": 6,
   "metadata": {},
   "outputs": [
    {
     "data": {
      "image/png": "[encoded data removed]",
      "text/plain": [
       "<matplotlib.figure.Figure at 0x910fc18>"
      ]
     },
     "metadata": {},
     "output_type": "display_data"
    },
    {
     "data": {
      "image/png": "[encoded data removed]",
      "text/plain": [
       "<matplotlib.figure.Figure at 0xaf81c50>"
      ]
     },
     "metadata": {},
     "output_type": "display_data"
    },
    {
     "data": {
      "image/png": "[encoded data removed]",
      "text/plain": [
       "<matplotlib.figure.Figure at 0x98d60b8>"
      ]
     },
     "metadata": {},
     "output_type": "display_data"
    }
   ],
   "source": [
    "data = featureFormat(data_dict, features_list)\n",
    "\n",
    "for point in data:\n",
    "    exercised_stock_options = point[4]\n",
    "    total_stock_value = point[5]\n",
    "    matplotlib.pyplot.scatter(exercised_stock_options , total_stock_value )\n",
    "\n",
    "matplotlib.pyplot.xlabel(\"exercised_stock_options\")\n",
    "matplotlib.pyplot.ylabel(\"total_stock_value\")\n",
    "matplotlib.pyplot.show()\n",
    "\n",
    "for point in data:\n",
    "    salary = point[1]\n",
    "    expenses = point[3]\n",
    "    matplotlib.pyplot.scatter( salary, expenses )\n",
    "\n",
    "matplotlib.pyplot.xlabel(\"salary\")\n",
    "matplotlib.pyplot.ylabel(\"expenses\")\n",
    "matplotlib.pyplot.show()\n",
    "\n",
    "for point in data:\n",
    "    \n",
    "    salary = point[1]\n",
    "    bonus  = point[2] \n",
    "    matplotlib.pyplot.scatter(salary,bonus )\n",
    "\n",
    "matplotlib.pyplot.xlabel(\"salary\")\n",
    "matplotlib.pyplot.ylabel(\"bonus\")\n",
    "matplotlib.pyplot.show()\n",
    "\n"
   ]
  },
  {
   "cell_type": "markdown",
   "metadata": {},
   "source": [
    "#### In the graph above we see more outlier that we need to get rid off. In the code below we going to locate the outlier for salary and bonus. "
   ]
  },
  {
   "cell_type": "code",
   "execution_count": 7,
   "metadata": {},
   "outputs": [
    {
     "name": "stdout",
     "output_type": "stream",
     "text": [
      "Salary Outlier(after removing Total):\n",
      "LAY KENNETH L\n",
      "1072321\n",
      "SKILLING JEFFREY K\n",
      "1111258\n",
      "FREVERT MARK A\n",
      "1060932\n"
     ]
    }
   ],
   "source": [
    "print \"Salary Outlier(after removing Total):\"\n",
    "#locate outlier for salary\n",
    "for x in data_dict:\n",
    "    da = data_dict[x]['salary']  \n",
    "    if da >= 800000 and da != \"NaN\":      \n",
    "        print x\n",
    "        print data_dict[x]['salary']"
   ]
  },
  {
   "cell_type": "code",
   "execution_count": 8,
   "metadata": {},
   "outputs": [
    {
     "name": "stdout",
     "output_type": "stream",
     "text": [
      "bonus Outlier:\n",
      "LAVORATO JOHN J\n",
      "8000000\n",
      "LAY KENNETH L\n",
      "7000000\n",
      "BELDEN TIMOTHY N\n",
      "5249999\n",
      "SKILLING JEFFREY K\n",
      "5600000\n"
     ]
    }
   ],
   "source": [
    "print \"bonus Outlier:\"\n",
    "#locate outlier for salary\n",
    "for x in data_dict:\n",
    "    da = data_dict[x]['bonus']  \n",
    "    if da >= 5000000 and da != 'NaN' :      \n",
    "        print x\n",
    "        print data_dict[x]['bonus']"
   ]
  },
  {
   "cell_type": "markdown",
   "metadata": {
    "collapsed": true
   },
   "source": [
    "#### In the code above we found some outlier for salary and bonus usually we would remove them from our dictonary but since they are important people that affect this case we cannot remove them. "
   ]
  },
  {
   "cell_type": "code",
   "execution_count": null,
   "metadata": {
    "collapsed": true
   },
   "outputs": [],
   "source": []
  },
  {
   "cell_type": "markdown",
   "metadata": {
    "collapsed": true
   },
   "source": [
    "## Feature Selection \n",
    "#### In the code below i create a new feature creating the fraction  from_poi_to _this_person and a fraction from_this_person_to_poi and the adding them to the data_dict"
   ]
  },
  {
   "cell_type": "code",
   "execution_count": 9,
   "metadata": {
    "collapsed": true
   },
   "outputs": [],
   "source": [
    "### Task 3: Create new feature(s)\n",
    "import pickle\n",
    "\n",
    "\n",
    "def computeFraction( poi_messages, all_messages ):\n",
    "\n",
    "    fraction = 0.\n",
    "    if poi_messages == \"NaN\":\n",
    "        poi_message = 0 \n",
    "    if all_messages == \"NaN\":\n",
    "        return 0\n",
    "    fraction = float(poi_messages)/float(all_messages)\n",
    "\n",
    "\n",
    "    return fraction\n",
    "\n",
    "\n",
    " \n",
    "\n",
    "submit_dict = {}\n",
    "for name in data_dict:\n",
    "\n",
    "    data_point = data_dict[name]\n",
    "    #print\n",
    "   \n",
    "    from_poi_to_this_person = data_point[\"from_poi_to_this_person\"]\n",
    "    to_messages = data_point[\"to_messages\"]\n",
    "    fraction_from_poi = computeFraction( from_poi_to_this_person, to_messages )\n",
    "    #print fraction_from_poi\n",
    "    data_point[\"fraction_from_poi\"] = fraction_from_poi\n",
    "  \n",
    "    from_this_person_to_poi = data_point[\"from_this_person_to_poi\"]\n",
    "    from_messages = data_point[\"from_messages\"]\n",
    "    fraction_to_poi = computeFraction( from_this_person_to_poi, from_messages )\n",
    "    #print fraction_to_poi\n",
    "    submit_dict[name]={\"from_poi_to_this_person\":fraction_from_poi,\n",
    "                       \"from_this_person_to_poi\":fraction_to_poi}\n",
    "    data_point[\"fraction_to_poi\"] = fraction_to_poi\n",
    "   \n",
    "    \n",
    "\n",
    "def submitDict():\n",
    "    return submit_dict\n",
    "\n"
   ]
  },
  {
   "cell_type": "markdown",
   "metadata": {},
   "source": [
    "#### Now that you create the new feature it time to use the KBest to locate the  best feature to use in you but first you must add the feature you create to the list then run the KBest. KBest will tell you the best feature to use in you classifiers"
   ]
  },
  {
   "cell_type": "code",
   "execution_count": 10,
   "metadata": {
    "collapsed": true
   },
   "outputs": [],
   "source": [
    "features_list = ['poi','salary','bonus','expenses','exercised_stock_options',\n",
    "                 'total_stock_value',\"from_poi_to_this_person\",\n",
    "                \"from_this_person_to_poi\",\"from_messages\",\n",
    "                 \"to_messages\",'loan_advances','long_term_incentive',\n",
    "                 'deferral_payments','deferred_income','fraction_from_poi',\"fraction_to_poi\"\n",
    "    ]\n",
    "\n",
    "\n",
    "\n",
    "my_dataset = data_dict\n",
    "\n",
    "### Extract features and labels from dataset for local testing\n",
    "data = featureFormat(my_dataset, features_list, sort_keys = True)\n",
    "labels, features = targetFeatureSplit(data)\n"
   ]
  },
  {
   "cell_type": "code",
   "execution_count": 11,
   "metadata": {},
   "outputs": [
    {
     "name": "stdout",
     "output_type": "stream",
     "text": [
      "[ 17.71787358  20.257185     5.815328    24.25047235  23.61374045\n",
      "   5.04125738   2.2951832    0.18121501   1.5425809    7.06671086\n",
      "   9.62221216   0.24033465  11.18458025   2.96399031  15.9462487 ]\n"
     ]
    }
   ],
   "source": [
    "from sklearn.feature_selection import SelectKBest\n",
    "from sklearn.feature_selection import chi2\n",
    "\n",
    "X_new = SelectKBest(k=2).fit(features, labels)\n",
    "##X_new.shape\n",
    "print X_new.scores_"
   ]
  },
  {
   "cell_type": "code",
   "execution_count": 12,
   "metadata": {},
   "outputs": [
    {
     "name": "stdout",
     "output_type": "stream",
     "text": [
      "[ 17.71787358  20.257185     5.815328    24.25047235  23.61374045\n",
      "   5.04125738   7.06671086   9.62221216  11.18458025  15.9462487 ]\n"
     ]
    }
   ],
   "source": [
    "features_list = ['poi','salary','bonus','expenses','exercised_stock_options',\n",
    "                 'total_stock_value',\"from_poi_to_this_person\",'loan_advances',\n",
    "                 'long_term_incentive','deferred_income',\"fraction_to_poi\" ]\n",
    "\n",
    "\n",
    "\n",
    "my_dataset = data_dict\n",
    "\n",
    "### Extract features and labels from dataset for local testing\n",
    "data = featureFormat(my_dataset, features_list, sort_keys = True)\n",
    "labels, features = targetFeatureSplit(data)\n",
    "\n",
    "from sklearn.feature_selection import SelectKBest\n",
    "from sklearn.feature_selection import chi2\n",
    "\n",
    "X_new = SelectKBest(k=2).fit(features, labels)\n",
    "#X_new.shape\n",
    "print X_new.scores_"
   ]
  },
  {
   "cell_type": "markdown",
   "metadata": {},
   "source": [
    "#### With the code above we see now choose the best features to use which are poi, salary,bonus, exercise_stock_options, total_stock_value, fraction_to_poi , and deferred_income. In the code below i run the code again to make sure that the KBest didn't change when i remove the features that i was going to work with. The reason i choose the 6 features if i have less than 6 than my data will be underfit because too few feature and the reason i don't have more feature 6 feature my data will be overfitting because it haves to many features."
   ]
  },
  {
   "cell_type": "code",
   "execution_count": 13,
   "metadata": {
    "collapsed": true
   },
   "outputs": [],
   "source": [
    "### Store to my_dataset for easy export below.\n",
    "#my_dataset = data_dict\n",
    "\n",
    "#features_list = ['poi','salary','bonus','exercised_stock_options','total_stock_value',\n",
    "#                 'fraction_to_poi','deferred_income']\n",
    "\n",
    "\n",
    "### Extract features and labels from dataset for local testing\n",
    "#data = featureFormat(my_dataset, features_list, sort_keys = True)\n",
    "#labels, features = targetFeatureSplit(data)\n"
   ]
  },
  {
   "cell_type": "code",
   "execution_count": 14,
   "metadata": {
    "collapsed": true
   },
   "outputs": [],
   "source": [
    "#accuracy for each feature in the list \n",
    "#from sklearn.feature_selection import SelectKBest\n",
    "#from sklearn.feature_selection import chi2\n",
    "\n",
    "#X_new = SelectKBest(k=2).fit(features, labels)\n",
    "#X_new.shape\n",
    "#print X_new.scores_"
   ]
  },
  {
   "cell_type": "markdown",
   "metadata": {
    "collapsed": true
   },
   "source": [
    "## Classifiers\n",
    "#### Now that we know which features we going to work with it time to pass them through some classifiers and compare their precision and recall with one another."
   ]
  },
  {
   "cell_type": "code",
   "execution_count": 15,
   "metadata": {
    "collapsed": true
   },
   "outputs": [],
   "source": [
    "\n",
    "### Task 4: Try a varity of classifiers\n",
    "### Please name your classifier clf for easy export below.\n",
    "### Note that if you want to do PCA or other multi-stage operations,\n",
    "### you'll need to use Pipelines. For more info:\n",
    "### http://scikit-learn.org/stable/modules/pipeline.html\n",
    "\n",
    "# Provided to give you a starting point. Try a variety of classifiers.\n",
    "#from sklearn import cross_validation\n",
    "\n"
   ]
  },
  {
   "cell_type": "markdown",
   "metadata": {},
   "source": [
    "### Naive Bayes"
   ]
  },
  {
   "cell_type": "code",
   "execution_count": 16,
   "metadata": {},
   "outputs": [
    {
     "name": "stdout",
     "output_type": "stream",
     "text": [
      "GaussianNB(priors=None)\n",
      "\tAccuracy: 0.81500\tPrecision: 0.30939\tRecall: 0.31450\tF1: 0.31193\tF2: 0.31347\n",
      "\tTotal predictions: 15000\tTrue positives:  629\tFalse positives: 1404\tFalse negatives: 1371\tTrue negatives: 11596\n",
      "\n"
     ]
    }
   ],
   "source": [
    "from sklearn.naive_bayes import GaussianNB\n",
    "clf = GaussianNB()\n",
    "test_classifier(clf,my_dataset, features_list )\n",
    "\n"
   ]
  },
  {
   "cell_type": "markdown",
   "metadata": {},
   "source": [
    "## AdaBoost"
   ]
  },
  {
   "cell_type": "code",
   "execution_count": 17,
   "metadata": {},
   "outputs": [
    {
     "name": "stdout",
     "output_type": "stream",
     "text": [
      "AdaBoostClassifier(algorithm='SAMME.R', base_estimator=None,\n",
      "          learning_rate=1.0, n_estimators=50, random_state=None)\n",
      "\tAccuracy: 0.86453\tPrecision: 0.49012\tRecall: 0.39700\tF1: 0.43867\tF2: 0.41268\n",
      "\tTotal predictions: 15000\tTrue positives:  794\tFalse positives:  826\tFalse negatives: 1206\tTrue negatives: 12174\n",
      "\n"
     ]
    }
   ],
   "source": [
    "from sklearn.ensemble import AdaBoostClassifier\n",
    "clf = AdaBoostClassifier()\n",
    "test_classifier(clf , my_dataset, features_list)"
   ]
  },
  {
   "cell_type": "markdown",
   "metadata": {},
   "source": [
    "## Decision Tree"
   ]
  },
  {
   "cell_type": "code",
   "execution_count": 18,
   "metadata": {},
   "outputs": [
    {
     "name": "stdout",
     "output_type": "stream",
     "text": [
      "DecisionTreeClassifier(class_weight=None, criterion='gini', max_depth=None,\n",
      "            max_features=None, max_leaf_nodes=None,\n",
      "            min_impurity_split=1e-07, min_samples_leaf=1,\n",
      "            min_samples_split=2, min_weight_fraction_leaf=0.0,\n",
      "            presort=False, random_state=None, splitter='best')\n",
      "\tAccuracy: 0.80880\tPrecision: 0.29274\tRecall: 0.30650\tF1: 0.29946\tF2: 0.30365\n",
      "\tTotal predictions: 15000\tTrue positives:  613\tFalse positives: 1481\tFalse negatives: 1387\tTrue negatives: 11519\n",
      "\n"
     ]
    }
   ],
   "source": [
    "from sklearn import tree\n",
    "clf = tree.DecisionTreeClassifier()\n",
    "test_classifier(clf , my_dataset, features_list)"
   ]
  },
  {
   "cell_type": "markdown",
   "metadata": {
    "collapsed": true
   },
   "source": [
    "#### In the graph above we pass our dataset and features_list to Naive Bayes, AdaBoost and Decision Tree and we can see that Naive Bayes haves the best Precision and Recall out of all the 3 classifier , AdaBoost have a better precision than recall , and Decision Tree have the worst Precision and Recall out of all the 3 classifies. The reason Decison Tree have the worst because we haven't the the classifier to get a better Precision and Recall."
   ]
  },
  {
   "cell_type": "markdown",
   "metadata": {},
   "source": [
    "#### Tuning \n"
   ]
  },
  {
   "cell_type": "code",
   "execution_count": 19,
   "metadata": {
    "collapsed": true
   },
   "outputs": [],
   "source": [
    "### Task 5: Tune your classifier to achieve better than .3 precision and recall \n",
    "### using our testing script. Check the tester.py script in the final project\n",
    "### folder for details on the evaluation method, especially the test_classifier\n",
    "### function. Because of the small size of the dataset, the script uses\n",
    "### stratified shuffle split cross validation. For more info: \n",
    "### http://scikit-learn.org/stable/modules/generated/sklearn.cross_validation.StratifiedShuffleSplit.htm\n",
    "#test_classifier(clf,my_dataset,features_list)\n"
   ]
  },
  {
   "cell_type": "markdown",
   "metadata": {},
   "source": [
    "#### In order to get a better Precision and Recall for Decision Tree  we have to tune it so that we can get them both above .3. The code below i tune the tree by give the min_samples_split =13 , class_weight = balanced and the min_samples_leaf = 5 . By tuning it Decision Tree have the best Recall out of all of the classifiers."
   ]
  },
  {
   "cell_type": "code",
   "execution_count": 26,
   "metadata": {},
   "outputs": [
    {
     "name": "stdout",
     "output_type": "stream",
     "text": [
      "DecisionTreeClassifier(class_weight='balanced', criterion='gini',\n",
      "            max_depth=None, max_features=None, max_leaf_nodes=10,\n",
      "            min_impurity_split=1e-07, min_samples_leaf=5,\n",
      "            min_samples_split=13, min_weight_fraction_leaf=0.0,\n",
      "            presort=False, random_state=None, splitter='best')\n",
      "\tAccuracy: 0.79313\tPrecision: 0.35475\tRecall: 0.67350\tF1: 0.46472\tF2: 0.57091\n",
      "\tTotal predictions: 15000\tTrue positives: 1347\tFalse positives: 2450\tFalse negatives:  653\tTrue negatives: 10550\n",
      "\n"
     ]
    }
   ],
   "source": [
    "from sklearn import tree\n",
    "clf = tree.DecisionTreeClassifier(min_samples_split = 13,class_weight = \"balanced\",\n",
    "                                  min_samples_leaf = 5 , max_leaf_nodes = 10)\n",
    "test_classifier(clf , my_dataset, features_list)"
   ]
  },
  {
   "cell_type": "code",
   "execution_count": 28,
   "metadata": {},
   "outputs": [
    {
     "name": "stdout",
     "output_type": "stream",
     "text": [
      "DecisionTreeClassifier(class_weight='balanced', criterion='gini',\n",
      "            max_depth=None, max_features=None, max_leaf_nodes=5,\n",
      "            min_impurity_split=1e-07, min_samples_leaf=5,\n",
      "            min_samples_split=5, min_weight_fraction_leaf=0.0,\n",
      "            presort=False, random_state=None, splitter='best')\n",
      "\tAccuracy: 0.78993\tPrecision: 0.35594\tRecall: 0.71100\tF1: 0.47440\tF2: 0.59275\n",
      "\tTotal predictions: 15000\tTrue positives: 1422\tFalse positives: 2573\tFalse negatives:  578\tTrue negatives: 10427\n",
      "\n"
     ]
    }
   ],
   "source": [
    "from sklearn import tree\n",
    "clf = tree.DecisionTreeClassifier(min_samples_split = 5,class_weight = \"balanced\",\n",
    "                                  min_samples_leaf = 5 , max_leaf_nodes = 5)\n",
    "test_classifier(clf , my_dataset, features_list)"
   ]
  },
  {
   "cell_type": "code",
   "execution_count": 40,
   "metadata": {},
   "outputs": [
    {
     "name": "stdout",
     "output_type": "stream",
     "text": [
      "DecisionTreeClassifier(class_weight='balanced', criterion='gini',\n",
      "            max_depth=None, max_features=None, max_leaf_nodes=5,\n",
      "            min_impurity_split=1e-07, min_samples_leaf=8,\n",
      "            min_samples_split=13, min_weight_fraction_leaf=0.0,\n",
      "            presort=False, random_state=None, splitter='best')\n",
      "\tAccuracy: 0.79200\tPrecision: 0.36493\tRecall: 0.75650\tF1: 0.49235\tF2: 0.62284\n",
      "\tTotal predictions: 15000\tTrue positives: 1513\tFalse positives: 2633\tFalse negatives:  487\tTrue negatives: 10367\n",
      "\n"
     ]
    }
   ],
   "source": [
    "from sklearn import tree\n",
    "clf = tree.DecisionTreeClassifier(min_samples_split = 13,class_weight = \"balanced\",\n",
    "                                  min_samples_leaf = 8  , max_leaf_nodes = 5)\n",
    "test_classifier(clf , my_dataset, features_list)"
   ]
  },
  {
   "cell_type": "markdown",
   "metadata": {},
   "source": [
    "#### In the below i get the dataset and features_list after it been split  and then run the code with decision tree from above and get new precision and recall."
   ]
  },
  {
   "cell_type": "code",
   "execution_count": 23,
   "metadata": {
    "collapsed": true
   },
   "outputs": [],
   "source": [
    "\n",
    "# Example starting point. Try investigating other evaluation techniques!\n",
    "#from sklearn.cross_validation import train_test_split\n",
    "#features_train, features_test, labels_train, labels_test = \\\n",
    "#    train_test_split(features, labels, test_size=0.3, random_state=42)\n",
    "#test_classifier(clf , my_dataset , features_list)"
   ]
  },
  {
   "cell_type": "code",
   "execution_count": 41,
   "metadata": {},
   "outputs": [
    {
     "name": "stdout",
     "output_type": "stream",
     "text": [
      "DecisionTreeClassifier(class_weight='balanced', criterion='gini',\n",
      "            max_depth=None, max_features=None, max_leaf_nodes=5,\n",
      "            min_impurity_split=1e-07, min_samples_leaf=8,\n",
      "            min_samples_split=13, min_weight_fraction_leaf=0.0,\n",
      "            presort=False, random_state=None, splitter='best')\n",
      "\tAccuracy: 0.79140\tPrecision: 0.36361\tRecall: 0.75250\tF1: 0.49031\tF2: 0.61990\n",
      "\tTotal predictions: 15000\tTrue positives: 1505\tFalse positives: 2634\tFalse negatives:  495\tTrue negatives: 10366\n",
      "\n"
     ]
    }
   ],
   "source": [
    "from sklearn import cross_validation\n",
    "cv = cross_validation.StratifiedShuffleSplit(labels, 100, random_state = 42)\n",
    "test_classifier(clf , my_dataset , features_list)"
   ]
  },
  {
   "cell_type": "code",
   "execution_count": null,
   "metadata": {
    "collapsed": true
   },
   "outputs": [],
   "source": []
  },
  {
   "cell_type": "code",
   "execution_count": null,
   "metadata": {
    "collapsed": true
   },
   "outputs": [],
   "source": []
  },
  {
   "cell_type": "code",
   "execution_count": null,
   "metadata": {
    "collapsed": true
   },
   "outputs": [],
   "source": []
  },
  {
   "cell_type": "code",
   "execution_count": 25,
   "metadata": {
    "collapsed": true
   },
   "outputs": [],
   "source": [
    "### Task 6: Dump your classifier, dataset, and features_list so anyone can\n",
    "### check your results. You do not need to change anything below, but make sure\n",
    "### that the version of poi_id.py that you submit can be run on its own and\n",
    "### generates the necessary .pkl files for validating your results.\n",
    "\n",
    "dump_classifier_and_data(clf, my_dataset, features_list)"
   ]
  },
  {
   "cell_type": "code",
   "execution_count": null,
   "metadata": {
    "collapsed": true
   },
   "outputs": [],
   "source": []
  }
 ],
 "metadata": {
  "kernelspec": {
   "display_name": "Python 2",
   "language": "python",
   "name": "python2"
  },
  "language_info": {
   "codemirror_mode": {
    "name": "ipython",
    "version": 2
   },
   "file_extension": ".py",
   "mimetype": "text/x-python",
   "name": "python",
   "nbconvert_exporter": "python",
   "pygments_lexer": "ipython2",
   "version": "2.7.13"
  }
 },
 "nbformat": 4,
 "nbformat_minor": 2
}
